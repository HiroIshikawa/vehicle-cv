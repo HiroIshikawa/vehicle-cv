{
 "cells": [
  {
   "cell_type": "code",
   "execution_count": 1,
   "metadata": {
    "collapsed": true
   },
   "outputs": [],
   "source": [
    "#importing some useful packages\n",
    "import matplotlib.pyplot as plt\n",
    "import matplotlib.image as mpimg\n",
    "import numpy as np\n",
    "import cv2\n",
    "import glob\n",
    "import pickle\n",
    "\n",
    "%matplotlib inline"
   ]
  },
  {
   "cell_type": "code",
   "execution_count": 2,
   "metadata": {
    "collapsed": true
   },
   "outputs": [],
   "source": [
    "class FrameData():\n",
    "    def __init__(self, frame):\n",
    "        self.img_size = (frame.shape[1], frame.shape[0])\n",
    "        self.center_x = self.img_size[0]/2\n",
    "        self.center_y = self.img_size[1]/2"
   ]
  },
  {
   "cell_type": "code",
   "execution_count": 3,
   "metadata": {
    "collapsed": true
   },
   "outputs": [],
   "source": [
    "def adjust_camera():\n",
    "    # prepare object points\n",
    "    objp = np.zeros((6*9,3), np.float32)\n",
    "    objp[:,:2] = np.mgrid[0:9, 0:6].T.reshape(-1,2)\n",
    "    \n",
    "    # arrays to store object points and image points from all the images.\n",
    "    objpoints = [] # 3d points in real world space\n",
    "    imgpoints = [] # 3d points in image plane.\n",
    "\n",
    "    # make a list of calibration image\n",
    "    images = glob.glob('camera_cal/calibration*.jpg')\n",
    "\n",
    "    # step through the list and search for chessboard corners\n",
    "    for idx, fname in enumerate(images):\n",
    "        img = cv2.imread(fname)\n",
    "        gray = cv2.cvtColor(img, cv2.COLOR_RGB2GRAY)\n",
    "\n",
    "        # find the chessboard corners\n",
    "        ret, corners = cv2.findChessboardCorners(gray, (9,6), None)\n",
    "\n",
    "        # if found, add object points, image points\n",
    "        if ret == True:\n",
    "            objpoints.append(objp)\n",
    "            imgpoints.append(corners)\n",
    "        \n",
    "    return objpoints, imgpoints"
   ]
  },
  {
   "cell_type": "code",
   "execution_count": 4,
   "metadata": {
    "collapsed": false
   },
   "outputs": [],
   "source": [
    "def calibrate(objpoints, imgpoints, img_size):    \n",
    "    # do camera calibration given object points and image points\n",
    "    ret, mtx, dist, rvecs, tvecs = cv2.calibrateCamera(objpoints, imgpoints, img_size, None, None)\n",
    "    return mtx, dist\n"
   ]
  },
  {
   "cell_type": "code",
   "execution_count": 19,
   "metadata": {
    "collapsed": false
   },
   "outputs": [],
   "source": [
    "# Edit this function to create your own pipeline.\n",
    "def screening(img, s_thresh=(90, 255), sx_thresh=(20, 100)):\n",
    "    img = np.copy(img)\n",
    "    # Convert to HSV color space and separate the V channel\n",
    "    hsv = cv2.cvtColor(img, cv2.COLOR_RGB2HLS).astype(np.float)\n",
    "    l_channel = hsv[:,:,1]\n",
    "    s_channel = hsv[:,:,2]\n",
    "    # Sobel x\n",
    "    sobelx = cv2.Sobel(l_channel, cv2.CV_64F, 1, 0) # Take the derivative in x\n",
    "    abs_sobelx = np.absolute(sobelx) # Absolute x derivative to accentuate lines away from horizontal\n",
    "    scaled_sobel = np.uint8(255*abs_sobelx/np.max(abs_sobelx))\n",
    "    \n",
    "    # Threshold x gradient\n",
    "    sxbinary = np.zeros_like(scaled_sobel)\n",
    "    sxbinary[(scaled_sobel >= sx_thresh[0]) & (scaled_sobel <= sx_thresh[1])] = 1\n",
    "    \n",
    "    # Threshold color channel\n",
    "    s_binary = np.zeros_like(s_channel)\n",
    "    s_binary[(s_channel >= s_thresh[0]) & (s_channel <= s_thresh[1])] = 1\n",
    "    # Stack each channel\n",
    "    # Note color_binary[:, :, 0] is all 0s, effectively an all black image. It might\n",
    "    # be beneficial to replace this channel with something else.\n",
    "    color_binary = np.dstack(( np.zeros_like(sxbinary), sxbinary, s_binary))\n",
    "    \n",
    "    # Combine the two binary thresholds\n",
    "    combined_binary = np.zeros_like(sxbinary)\n",
    "    combined_binary[(s_binary == 1) | (sxbinary == 1)] = 1\n",
    "\n",
    "    return color_binary, combined_binary\n",
    "#     return color_binary, s_binary"
   ]
  },
  {
   "cell_type": "code",
   "execution_count": 20,
   "metadata": {
    "collapsed": true
   },
   "outputs": [],
   "source": [
    "class Perspective:\n",
    "    def __init__(self, img_size, center_x, center_y):\n",
    "        self.src = np.float32(\n",
    "            [[center_x+60,center_y+120],\n",
    "             [img_size[0]*(6/7),img_size[1]],\n",
    "             [img_size[0]*(1/5),img_size[1]],\n",
    "             [center_x,center_y+120]])\n",
    "        self.dst = np.float32([\n",
    "            [img_size[0]*(3/4),0], \n",
    "            [img_size[0]*(3/4),img_size[1]],   \n",
    "            [img_size[0]*(1/4),img_size[1]], \n",
    "            [img_size[0]*(1/4),0]])"
   ]
  },
  {
   "cell_type": "code",
   "execution_count": 21,
   "metadata": {
    "collapsed": false
   },
   "outputs": [],
   "source": [
    "def draw_line(img, src, color=[255,0,0]):\n",
    "    x1, y1 = src[0]\n",
    "    x2, y2 = src[1]\n",
    "    cv2.line(img, (x1, y1), (x2, y2), color, 5)\n",
    "    x3, y3 = src[2]\n",
    "    x4, y4 = src[3]\n",
    "    cv2.line(img, (x3, y3), (x4, y4), color, 5)\n",
    "    return img\n",
    "\n",
    "def transform(binary, img_size, prsp):\n",
    "    M = cv2.getPerspectiveTransform(prsp.src, prsp.dst)\n",
    "    binary_warped = cv2.warpPerspective(binary, M, img_size, flags=cv2.INTER_LINEAR)\n",
    "    return binary_warped"
   ]
  },
  {
   "cell_type": "code",
   "execution_count": 22,
   "metadata": {
    "collapsed": false
   },
   "outputs": [],
   "source": [
    "def find_curves(binary_warped,lines,midpoint):\n",
    "    if lines[0].detected and lines[1].detected: # after taking the first frame of the video\n",
    "        # Assume you now have a new warped binary image \n",
    "        # from the next frame of video (also called \"binary_warped\")\n",
    "        # It's now much easier to find line pixels!\n",
    "        nonzero = binary_warped.nonzero()\n",
    "        nonzeroy = np.array(nonzero[0])\n",
    "        nonzerox = np.array(nonzero[1])\n",
    "        margin = 70\n",
    "        left_fit = lines[0].recent_fitted[-1]\n",
    "        right_fit = lines[1].recent_fitted[-1]\n",
    "        left_lane_inds = ((nonzerox > (left_fit[0]*(nonzeroy**2) + \n",
    "                                       left_fit[1]*nonzeroy + left_fit[2] - margin)) &\n",
    "                          (nonzerox < (left_fit[0]*(nonzeroy**2) + left_fit[1]*nonzeroy + left_fit[2] + margin))) \n",
    "        right_lane_inds = ((nonzerox > (right_fit[0]*(nonzeroy**2) + \n",
    "                                        right_fit[1]*nonzeroy + right_fit[2] - margin)) &\n",
    "                           (nonzerox < (right_fit[0]*(nonzeroy**2) + right_fit[1]*nonzeroy + right_fit[2] + margin)))  \n",
    "\n",
    "        # Again, extract left and right line pixel positions\n",
    "        leftx = nonzerox[left_lane_inds]\n",
    "        lefty = nonzeroy[left_lane_inds] \n",
    "        rightx = nonzerox[right_lane_inds]\n",
    "        righty = nonzeroy[right_lane_inds]\n",
    "        # if leftx[-1] and lefty[-1] crossed, it's illigal line detection\n",
    "        \n",
    "        # Fit a second order polynomial to each\n",
    "        left_fit = np.polyfit(lefty, leftx, 2)\n",
    "        right_fit = np.polyfit(righty, rightx, 2)\n",
    "    else:\n",
    "        # Assuming you have created a warped binary image called \"binary_warped\"\n",
    "        # Take a histogram of the bottom half of the image\n",
    "        histogram = np.sum(binary_warped[binary_warped.shape[0]/2:,:], axis=0)\n",
    "        # Create an output image to draw on and  visualize the result\n",
    "        out_img = np.dstack((binary_warped, binary_warped, binary_warped))*255\n",
    "        # Find the peak of the left and right halves of the histogram\n",
    "        # These will be the starting point for the left and right lines\n",
    "        midpoint = np.int(histogram.shape[0]/2)\n",
    "        leftx_base = np.argmax(histogram[:midpoint])\n",
    "        rightx_base = np.argmax(histogram[midpoint:]) + midpoint\n",
    "\n",
    "        # Choose the number of sliding windows\n",
    "        nwindows = 27\n",
    "        # Set height of windows\n",
    "        window_height = np.int(binary_warped.shape[0]/nwindows)\n",
    "        # Identify the x and y positions of all nonzero pixels in the image\n",
    "        nonzero = binary_warped.nonzero()\n",
    "        nonzeroy = np.array(nonzero[0])\n",
    "        nonzerox = np.array(nonzero[1])\n",
    "        # Current positions to be updated for each window\n",
    "        leftx_current = leftx_base\n",
    "        rightx_current = rightx_base\n",
    "        # Set the width of the windows +/- margin\n",
    "        margin = 70\n",
    "        # Set minimum number of pixels found to recenter window\n",
    "        minpix = 150\n",
    "        # Create empty lists to receive left and right lane pixel indices\n",
    "        left_lane_inds = []\n",
    "        right_lane_inds = []\n",
    "\n",
    "        # Step through the windows one by one\n",
    "        for window in range(nwindows):\n",
    "            # Identify window boundaries in x and y (and right and left)\n",
    "            win_y_low = binary_warped.shape[0] - (window+1)*window_height\n",
    "            win_y_high = binary_warped.shape[0] - window*window_height\n",
    "            win_xleft_low = leftx_current - margin\n",
    "            win_xleft_high = leftx_current + margin\n",
    "            win_xright_low = rightx_current - margin\n",
    "            win_xright_high = rightx_current + margin\n",
    "            # Draw the windows on the visualization image\n",
    "            cv2.rectangle(out_img,(win_xleft_low,win_y_low),(win_xleft_high,win_y_high),(0,255,0), 2) \n",
    "            cv2.rectangle(out_img,(win_xright_low,win_y_low),(win_xright_high,win_y_high),(0,255,0), 2) \n",
    "            # Identify the nonzero pixels in x and y within the window\n",
    "            good_left_inds = ((nonzeroy >= win_y_low) & (nonzeroy < win_y_high) &\n",
    "                              (nonzerox >= win_xleft_low) & (nonzerox < win_xleft_high)).nonzero()[0]\n",
    "            good_right_inds = ((nonzeroy >= win_y_low) & (nonzeroy < win_y_high) &\n",
    "                               (nonzerox >= win_xright_low) & (nonzerox < win_xright_high)).nonzero()[0]\n",
    "            # Append these indices to the lists\n",
    "            left_lane_inds.append(good_left_inds)\n",
    "            right_lane_inds.append(good_right_inds)\n",
    "            # If you found > minpix pixels, recenter next window on their mean position\n",
    "            if len(good_left_inds) > minpix:\n",
    "                leftx_current = np.int(np.mean(nonzerox[good_left_inds]))\n",
    "            if len(good_right_inds) > minpix:        \n",
    "                rightx_current = np.int(np.mean(nonzerox[good_right_inds]))\n",
    "\n",
    "        # Concatenate the arrays of indices\n",
    "        left_lane_inds = np.concatenate(left_lane_inds)\n",
    "        right_lane_inds = np.concatenate(right_lane_inds)\n",
    "\n",
    "        # Extract left and right line pixel positions\n",
    "        leftx = nonzerox[left_lane_inds]\n",
    "        lefty = nonzeroy[left_lane_inds] \n",
    "        rightx = nonzerox[right_lane_inds]\n",
    "        righty = nonzeroy[right_lane_inds] \n",
    "\n",
    "        # Fit a second order polynomial to each\n",
    "        left_fit = np.polyfit(lefty, leftx, 2)\n",
    "        right_fit = np.polyfit(righty, rightx, 2)\n",
    "\n",
    "    ploty = np.linspace(0, binary_warped.shape[0]-1, binary_warped.shape[0] )\n",
    "    left_fitx = left_fit[0]*ploty**2 + left_fit[1]*ploty + left_fit[2]\n",
    "    right_fitx = right_fit[0]*ploty**2 + right_fit[1]*ploty + right_fit[2]\n",
    "\n",
    "    leftx = left_fitx[::-1]  # Reverse to match top-to-bottom in y\n",
    "    rightx = right_fitx[::-1]  # Reverse to match top-to-bottom in y\n",
    "\n",
    "    # Define y-value where we want radius of curvature\n",
    "    # I'll choose the maximum y-value, corresponding to the bottom of the image\n",
    "    y_eval = np.max(ploty)\n",
    "    # left_curverad = ((1 + (2*left_fit[0]*y_eval + left_fit[1])**2)**1.5) / np.absolute(2*left_fit[0])\n",
    "    # right_curverad = ((1 + (2*right_fit[0]*y_eval + right_fit[1])**2)**1.5) / np.absolute(2*right_fit[0])\n",
    "    # print(left_curverad, right_curverad)\n",
    "\n",
    "    # Define conversions in x and y from pixels space to meters\n",
    "    ym_per_pix = 30/720 # meters per pixel in y dimension\n",
    "    xm_per_pix = 3.7/700 # meters per pixel in x dimension\n",
    "\n",
    "    # Fit new polynomials to x,y in world space\n",
    "    left_fit_cr = np.polyfit(ploty*ym_per_pix, leftx*xm_per_pix, 2)\n",
    "    right_fit_cr = np.polyfit(ploty*ym_per_pix, rightx*xm_per_pix, 2)\n",
    "    # Calculate the new radii of curvature\n",
    "    left_curverad = ((1 + (2*left_fit_cr[0]*y_eval*ym_per_pix + left_fit_cr[1])**2)**1.5) / np.absolute(2*left_fit_cr[0])\n",
    "    right_curverad = ((1 + (2*right_fit_cr[0]*y_eval*ym_per_pix + right_fit_cr[1])**2)**1.5) / np.absolute(2*right_fit_cr[0])\n",
    "\n",
    "    lines[0].detected = True\n",
    "    lines[0].recent_xfitted.append(left_fitx)\n",
    "    lines[0].recent_fitted.append(left_fit)\n",
    "    lines[0].best_fit = np.mean(lines[0].recent_fitted)\n",
    "    lines[0].current_fit = left_fit\n",
    "    lines[0].radius_of_curvature = left_curverad\n",
    "#     lines[0].line_base_pos = (midpoint -leftx[0])*xm_per_pix\n",
    "    lines[0].line_base_pos = leftx[0]\n",
    "    lines[0].allx = leftx\n",
    "    lines[0].ally = lefty\n",
    "    if lines[0].detected:\n",
    "        lines[0].diffs = left_fit - lines[0].recent_fitted[-1]\n",
    "    if len(lines[0].recent_xfitted) > 3:\n",
    "        lines[0].bestx = np.mean(lines[0].recent_xfitted[-3:], axis=0)\n",
    "    \n",
    "    lines[1].detected = True\n",
    "    lines[1].recent_xfitted.append(right_fitx)\n",
    "    lines[1].bestx = np.mean(lines[1].recent_xfitted)\n",
    "    lines[1].recent_fitted.append(right_fit)\n",
    "    lines[1].best_fit = np.mean(lines[1].recent_fitted)\n",
    "    lines[1].current_fit = right_fit\n",
    "    lines[1].radius_of_curvature = right_curverad\n",
    "#     lines[1].line_base_pos = (midpoint - rightx[0])*xm_per_pix\n",
    "    lines[1].line_base_pos = rightx[0]\n",
    "    lines[1].allx = rightx\n",
    "    lines[1].ally = righty\n",
    "    if lines[1].detected:\n",
    "        lines[1].diffs = right_fit - lines[1].recent_fitted[-1]\n",
    "    if len(lines[1].recent_xfitted) > 3:\n",
    "        lines[1].bestx = np.mean(lines[1].recent_xfitted[-3:], axis=0)\n",
    "    \n",
    "    img_center = (binary_warped.shape[1]) / 2\n",
    "    dist_to_center = (img_center-(lines[0].line_base_pos+((lines[1].line_base_pos-lines[0].line_base_pos)/2.)))*xm_per_pix\n",
    "    avg_curvature = (left_curverad+right_curverad)/2\n",
    "#     print(lines[0].bestx)\n",
    "    \n",
    "    if len(lines[0].recent_xfitted) > 3 and len(lines[1].recent_xfitted) > 3:\n",
    "#         return lines[0].bestx, lines[1].bestx, ploty, left_curverad, right_curverad, dist_to_center\n",
    "        return lines[0].bestx, lines[1].bestx, ploty, avg_curvature, dist_to_center\n",
    "    else:\n",
    "#         return left_fitx, right_fitx, ploty, left_curverad, right_curverad, dist_to_center\n",
    "        return left_fitx, right_fitx, ploty, avg_curvature, dist_to_center\n"
   ]
  },
  {
   "cell_type": "code",
   "execution_count": 23,
   "metadata": {
    "collapsed": true
   },
   "outputs": [],
   "source": [
    "class Line():\n",
    "    def __init__(self):\n",
    "        # was the line detected in the last iteration?\n",
    "        self.detected = False  \n",
    "        # x values of the last n fits of the line\n",
    "        self.recent_xfitted = [] \n",
    "        #average x values of the fitted line over the last n iterations\n",
    "        self.bestx = None     \n",
    "        #list of recent polynomial coefficients over the last n iterations\n",
    "        self.recent_fitted = []\n",
    "        #polynomial coefficients averaged over the last n iterations\n",
    "        self.best_fit = None  \n",
    "        #polynomial coefficients for the most recent fit\n",
    "        self.current_fit = [np.array([False])]  \n",
    "        #radius of curvature of the line in some units\n",
    "        self.radius_of_curvature = None \n",
    "        #distance in meters of vehicle center from the line\n",
    "        self.line_base_pos = None \n",
    "        #difference in fit coefficients between last and new fits\n",
    "        self.diffs = np.array([0,0,0], dtype='float') \n",
    "        #x values for detected line pixels\n",
    "        self.allx = None  \n",
    "        #y values for detected line pixels\n",
    "        self.ally = None"
   ]
  },
  {
   "cell_type": "code",
   "execution_count": 24,
   "metadata": {
    "collapsed": false
   },
   "outputs": [],
   "source": [
    "objpts, imgpts = adjust_camera()\n",
    "frame = mpimg.imread('test_images/test6.jpg')\n",
    "data = FrameData(frame)\n",
    "mtx, dist = calibrate(objpts, imgpts, data.img_size)\n",
    "\n",
    "# Line detection\n",
    "left_line = Line()\n",
    "right_line = Line()\n",
    "lines = (left_line, right_line)\n",
    "\n",
    "\n",
    "\n",
    "midpoint = 0.\n",
    "\n",
    "def process_image(frame):\n",
    "    # Preprocess: framing, camera calibration\n",
    "#     frame = mpimg.imread('test_images/test4.jpg')\n",
    "    fr_data = FrameData(frame)\n",
    "#     objpts, imgpts = adjust_camera(frame)\n",
    "#     mtx, dist = calibrate(objpts, imgpts, fr_data.img_size)\n",
    "\n",
    "    # Undistortion, Gradient/color screening, Perspective Transform\n",
    "    dst = cv2.undistort(frame, mtx, dist, None, mtx)\n",
    "    color, binary = screening(dst)\n",
    "    prsp = Perspective(fr_data.img_size, fr_data.center_x, fr_data.center_y)\n",
    "    binary_warped = transform(binary, fr_data.img_size, prsp)\n",
    "\n",
    "    left_fitx, right_fitx, ploty, avg_curvature, dist_to_center = find_curves(binary_warped, lines, midpoint)\n",
    "\n",
    "    # warped = np.copy(binary_warped)\n",
    "    # Create an image to draw the lines on\n",
    "    # warp_zero = np.zeros_like(warped).astype(np.uint8)\n",
    "    warp_zero = np.zeros_like(binary_warped).astype(np.uint8)\n",
    "    color_warp = np.dstack((warp_zero, warp_zero, warp_zero))\n",
    "\n",
    "    # left_fitx = left_line.recent_xfitted[-1]\n",
    "    # right_fitx = right_line.recent_xfitted[-1]\n",
    "\n",
    "    # Recast the x and y points into usable format for cv2.fillPoly()\n",
    "    pts_left = np.array([np.transpose(np.vstack([left_fitx, ploty]))])\n",
    "    pts_right = np.array([np.flipud(np.transpose(np.vstack([right_fitx, ploty])))])\n",
    "    pts = np.hstack((pts_left, pts_right))\n",
    "\n",
    "    # Draw the lane onto the warped blank image\n",
    "    cv2.fillPoly(color_warp, np.int_([pts]), (0,255, 0))\n",
    "\n",
    "    Minv = cv2.getPerspectiveTransform(prsp.dst, prsp.src)\n",
    "\n",
    "    # Warp the blank back to original image space using inverse perspective matrix (Minv)\n",
    "    newwarp = cv2.warpPerspective(color_warp, Minv, fr_data.img_size) \n",
    "    # Combine the result with the original image\n",
    "    # result = cv2.addWeighted(undist, 1, newwarp, 0.3, 0)\n",
    "    result = cv2.addWeighted(frame, 1, newwarp, 0.3, 0)\n",
    "    \n",
    "    font = cv2.FONT_HERSHEY_SIMPLEX\n",
    "    if dist_to_center < 0:\n",
    "        left_or_right = 'left'\n",
    "    else:\n",
    "        left_or_right = 'right'\n",
    "    curverad_str = 'Radius of Curvature: '+str(int(avg_curvature))+'(m)'\n",
    "    dist2cent_str = 'Vehicle is '+str(round(abs(dist_to_center),2))+'m '+left_or_right+' of center'\n",
    "    cv2.putText(result,curverad_str,(10,110), font, 2,(255,255,255),2,cv2.LINE_AA)\n",
    "    cv2.putText(result,dist2cent_str,(10,230), font, 2,(255,255,255),2,cv2.LINE_AA)\n",
    "#     plt.imshow(result)\n",
    "    return result"
   ]
  },
  {
   "cell_type": "code",
   "execution_count": 25,
   "metadata": {
    "collapsed": false
   },
   "outputs": [
    {
     "name": "stdout",
     "output_type": "stream",
     "text": [
      "[MoviePy] >>>> Building video challenge.mp4\n",
      "[MoviePy] Writing video challenge.mp4\n"
     ]
    },
    {
     "name": "stderr",
     "output_type": "stream",
     "text": [
      "100%|██████████| 485/485 [02:41<00:00,  2.24it/s]\n"
     ]
    },
    {
     "name": "stdout",
     "output_type": "stream",
     "text": [
      "[MoviePy] Done.\n",
      "[MoviePy] >>>> Video ready: challenge.mp4 \n",
      "\n",
      "CPU times: user 2min 28s, sys: 30.6 s, total: 2min 58s\n",
      "Wall time: 2min 45s\n"
     ]
    }
   ],
   "source": [
    "from moviepy.editor import VideoFileClip\n",
    "from IPython.display import HTML\n",
    "\n",
    "challenge_output = 'challenge.mp4'\n",
    "clip1 = VideoFileClip(\"challenge_video.mp4\")\n",
    "challenge_clip = clip1.fl_image(process_image) #NOTE: this function expects color images!!\n",
    "%time challenge_clip.write_videofile(challenge_output, audio=False)"
   ]
  },
  {
   "cell_type": "code",
   "execution_count": 26,
   "metadata": {
    "collapsed": false
   },
   "outputs": [
    {
     "data": {
      "text/html": [
       "\n",
       "<video width=\"960\" height=\"540\" controls>\n",
       "  <source src=\"challenge.mp4\">\n",
       "</video>\n"
      ],
      "text/plain": [
       "<IPython.core.display.HTML object>"
      ]
     },
     "execution_count": 26,
     "metadata": {},
     "output_type": "execute_result"
    }
   ],
   "source": [
    "HTML(\"\"\"\n",
    "<video width=\"960\" height=\"540\" controls>\n",
    "  <source src=\"{0}\">\n",
    "</video>\n",
    "\"\"\".format(challenge_output))"
   ]
  },
  {
   "cell_type": "code",
   "execution_count": null,
   "metadata": {
    "collapsed": true
   },
   "outputs": [],
   "source": [
    "# # Import everything needed to edit/save/watch video clips\n",
    "# from moviepy.editor import VideoFileClip\n",
    "# from IPython.display import HTML\n",
    "\n",
    "# project_output = 'project.mp4'\n",
    "# clip1 = VideoFileClip(\"project_video.mp4\")\n",
    "# project_clip = clip1.fl_image(process_image) #NOTE: this function expects color images!!\n",
    "# %time project_clip.write_videofile(project_output, audio=False)"
   ]
  },
  {
   "cell_type": "code",
   "execution_count": null,
   "metadata": {
    "collapsed": true
   },
   "outputs": [],
   "source": [
    "# HTML(\"\"\"\n",
    "# <video width=\"960\" height=\"540\" controls>\n",
    "#   <source src=\"{0}\">\n",
    "# </video>\n",
    "# \"\"\".format(project_output))"
   ]
  }
 ],
 "metadata": {
  "kernelspec": {
   "display_name": "Python 3",
   "language": "python",
   "name": "python3"
  },
  "language_info": {
   "codemirror_mode": {
    "name": "ipython",
    "version": 3
   },
   "file_extension": ".py",
   "mimetype": "text/x-python",
   "name": "python",
   "nbconvert_exporter": "python",
   "pygments_lexer": "ipython3",
   "version": "3.5.2"
  },
  "widgets": {
   "state": {},
   "version": "1.1.2"
  }
 },
 "nbformat": 4,
 "nbformat_minor": 2
}
